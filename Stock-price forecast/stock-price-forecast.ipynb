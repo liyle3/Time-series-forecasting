{
 "cells": [
  {
   "cell_type": "code",
   "execution_count": 1,
   "id": "e3ab6bb6-9550-4670-a182-b2e55e3a6660",
   "metadata": {},
   "outputs": [],
   "source": [
    "from keras import layers\n",
    "from keras import models\n",
    "import tensorflow as tf\n",
    "import numpy as np\n",
    "import pandas as pd\n",
    "from keras.callbacks import ModelCheckpoint\n",
    "import os\n",
    "from jqdatasdk import *\n",
    "import warnings\n",
    "warnings.filterwarnings(\"ignore\")"
   ]
  },
  {
   "cell_type": "code",
   "execution_count": 2,
   "id": "ead459bd-7fc2-4f89-8539-d67070491414",
   "metadata": {},
   "outputs": [
    {
     "name": "stdout",
     "output_type": "stream",
     "text": [
      "auth success \n"
     ]
    },
    {
     "data": {
      "text/plain": [
       "4723"
      ]
     },
     "execution_count": 2,
     "metadata": {},
     "output_type": "execute_result"
    }
   ],
   "source": [
    "#数据获取及数据处理\n",
    "auth(\"xxxxxxx\", \"xxxxxxxxxx\")\n",
    "\n",
    "#获取A股所有股票的代码\n",
    "stock_list = list(get_all_securities([\"stock\"]).index)\n",
    "len(stock_list)"
   ]
  },
  {
   "cell_type": "code",
   "execution_count": 4,
   "id": "b7202a75-7649-46d9-b72d-d183aa960cfd",
   "metadata": {},
   "outputs": [
    {
     "name": "stdout",
     "output_type": "stream",
     "text": [
      "[array([20.36, 20.2 , 21.06, 20.8 , 20.59, 19.61, 19.6 , 18.96, 18.17,\n",
      "       18.14, 17.7 , 18.01, 18.  , 18.38, 18.26, 18.37, 18.95, 20.5 ,\n",
      "       19.56, 19.29, 19.23, 19.35, 19.01, 19.9 , 19.19, 19.12, 19.22,\n",
      "       19.15, 18.75, 18.44]), array([19.39, 19.  , 18.6 , 18.9 , 18.75, 17.34, 16.3 , 16.53, 16.78,\n",
      "       16.88, 16.34, 16.67, 16.8 , 17.11, 17.23, 17.4 , 17.42, 17.27,\n",
      "       17.52, 19.5 , 20.  , 19.1 , 18.84, 18.58, 18.88, 18.8 , 19.1 ,\n",
      "       18.59, 18.58, 18.56]), array([2.22, 2.26, 2.3 , 2.26, 2.25, 2.22, 2.17, 2.16, 2.18, 2.15, 2.06,\n",
      "       2.09, 2.08, 2.09, 2.12, 2.14, 2.12, 2.13, 2.12, 2.18, 2.15, 2.17,\n",
      "       2.15, 2.14, 2.12, 2.13, 2.13, 2.14, 2.14, 2.15]), array([4.44, 4.44, 4.45, 4.39, 4.25, 4.22, 4.13, 4.08, 4.18, 4.16, 4.08,\n",
      "       4.13, 4.1 , 4.09, 4.09, 4.09, 4.16, 4.23, 4.2 , 4.21, 4.16, 4.17,\n",
      "       4.12, 4.18, 4.13, 4.16, 4.2 , 4.16, 4.09, 4.09]), array([4.24, 4.09, 4.08, 4.38, 4.25, 4.13, 4.22, 4.21, 4.4 , 4.64, 4.58,\n",
      "       4.97, 5.05, 4.93, 5.4 , 5.5 , 5.43, 5.8 , 5.75, 5.61, 6.09, 6.1 ,\n",
      "       6.02, 6.12, 5.86, 5.49, 5.44, 5.35, 5.26, 5.89]), array([2.26, 2.26, 2.26, 2.22, 2.24, 2.26, 2.22, 2.15, 2.17, 2.17, 2.13,\n",
      "       2.13, 2.1 , 2.11, 2.1 , 2.11, 2.11, 2.17, 2.14, 2.16, 2.14, 2.16,\n",
      "       2.14, 2.17, 2.17, 2.19, 2.19, 2.18, 2.15, 2.15]), array([17.05, 18.88, 18.03, 18.1 , 20.79, 20.7 , 20.65, 21.56, 20.91,\n",
      "       20.37, 19.24, 19.16, 19.5 , 18.45, 20.58, 20.  , 18.9 , 18.58,\n",
      "       18.5 , 17.5 , 17.05, 17.33, 17.61, 17.35, 18.13, 18.08, 18.2 ,\n",
      "       17.36, 17.01, 18.  ]), array([3.95, 3.86, 3.88, 3.73, 3.77, 3.8 , 4.  , 3.94, 3.95, 4.02, 3.93,\n",
      "       3.93, 3.91, 3.82, 3.74, 3.83, 3.87, 3.93, 4.09, 4.04, 4.06, 4.05,\n",
      "       4.02, 4.01, 3.97, 3.96, 3.9 , 3.93, 3.85, 3.86]), array([11.7 , 11.64, 11.75, 11.5 , 11.59, 11.41, 11.13, 10.96, 10.88,\n",
      "       10.61, 10.44, 10.5 , 10.54, 10.38, 10.31, 10.37, 10.68, 11.1 ,\n",
      "       10.89, 10.84, 10.93, 10.89, 10.7 , 10.79, 10.75, 10.81, 10.85,\n",
      "       10.76, 10.56, 10.49])]\n"
     ]
    }
   ],
   "source": [
    "x_data = {}\n",
    "y_data = {}\n",
    "attris = ['open', 'close', 'high', 'low', 'volume', 'money']\n",
    "for attri in attris:\n",
    "    x_data[attri] = []\n",
    "    y_data[attri] = []\n",
    "    \n",
    "for code in stock_list[0:3000]:\n",
    "    price_previous = get_price(code, end_date = '2021-11-30', frequency = 'daily',  count = 30)\n",
    "    price_next = get_price(code, end_date = '2021-12-10', frequency = 'daily',  count = 10)\n",
    "    \n",
    "    for attri in attris:\n",
    "        x_data[attri].append(np.array(price_previous[attri]))\n",
    "        y_data[attri].append(np.array(price_next[attri]))\n",
    "\n",
    "\n",
    "print(x_data['open'][1:10])"
   ]
  },
  {
   "cell_type": "code",
   "execution_count": null,
   "id": "300b3659-de67-4df3-a030-7f1d5b29bc64",
   "metadata": {},
   "outputs": [],
   "source": [
    "def NAN_Replace(x_data, y_data):\n",
    "    for i in range(x_data.shape[0]):\n",
    "        temp_row = x_data[i, :]\n",
    "        nan_num = np.count_nonzero(temp_row != temp_row)\n",
    "        if nan_num != 0:\n",
    "            # temp_row[np.isnan(temp_row)] = data[~np.isnan(data)].mean()\n",
    "            temp_not_nan_row = temp_row[temp_row == temp_row]  # 去掉nan的ndarray\n",
    "            # average = 0\n",
    "            if np.isnan(temp_not_nan_row.mean()):\n",
    "                average = 0\n",
    "            else:\n",
    "                average = temp_not_nan_row.mean()\n",
    "             \n",
    "            # 选中当前为nan的位置，把值赋值为不为nan的均值\n",
    "            temp_row[np.isnan(temp_row)] = average  # mean()表示求均值。\n",
    "        for j in range(y_data.shape[1]):    \n",
    "            if np.isnan(y_data[i][j]):\n",
    "                y_data[i][j] = x_data[i, -1].mean()\n",
    "            \n",
    "    \n",
    "    return x_data, y_data"
   ]
  },
  {
   "cell_type": "code",
   "execution_count": null,
   "id": "f8981902-55f0-467c-9947-4dd55b83e4b4",
   "metadata": {},
   "outputs": [],
   "source": [
    "# print(x_data[1:10])\n",
    "x_data_array, y_data_array = NAN_Replace(np.array(x_data['open']), np.array(y_data['open']))\n",
    "len(y_data)"
   ]
  },
  {
   "cell_type": "code",
   "execution_count": null,
   "id": "fdcc6dbc-e5c5-4f77-83be-14428d80ea27",
   "metadata": {},
   "outputs": [],
   "source": [
    "x_train = x_data_array[:2500]\n",
    "print(x_train.shape)\n",
    "x_train = x_train.reshape((2500, 30, 1))\n",
    "y_train = y_data_array[:2500]\n",
    "# y_train = y_train[:, :5]\n",
    "y_train = y_train.reshape((2500, 10, 1))\n",
    "x_val = x_data_array[2500:]\n",
    "x_val = x_val.reshape((500, 30, 1))\n",
    "y_val = y_data_array[2500:]\n",
    "# y_val = y_val[:, :5]\n",
    "y_val = y_val.reshape((500, 10, 1))\n"
   ]
  },
  {
   "cell_type": "code",
   "execution_count": null,
   "id": "e9fafd58-d03d-4d3e-99f2-c01921466def",
   "metadata": {},
   "outputs": [],
   "source": [
    "def model(shape, x_train, y_train, x_val, y_val, epochs):\n",
    "    # LSTM 神经网络搭建\n",
    "    model = tf.keras.Sequential()\n",
    "    model.add(tf.keras.layers.LSTM(20, input_shape=(30, 1), return_sequences=True))\n",
    "    model.add(layers.Dropout(0.2))\n",
    "    model.add(tf.keras.layers.LSTM(20))\n",
    "    model.add(layers.Dropout(0.2))\n",
    "    model.add(layers.Dense(64, activation='relu'))\n",
    "    model.add(layers.Dropout(0.2))\n",
    "    model.add(tf.keras.layers.Dense(10, activation='relu'))\n",
    "    model.compile(optimizer=tf.keras.optimizers.Adam(0.001), loss=\"mean_squared_error\")\n",
    "    model.fit(x_train, y_train, epochs=epochs, batch_size= 128, validation_data=(x_val,y_val))\n",
    "    \n",
    "    return model"
   ]
  },
  {
   "cell_type": "code",
   "execution_count": null,
   "id": "50d8b4d9-5ce8-470f-a48f-4471f819a3ab",
   "metadata": {},
   "outputs": [],
   "source": [
    "model = model([30, 1], x_train, y_train, x_val, y_val, 25)"
   ]
  },
  {
   "cell_type": "code",
   "execution_count": null,
   "id": "e50d9778-9815-4723-a8d4-42aeb7296106",
   "metadata": {},
   "outputs": [],
   "source": [
    "#使用训练好的模型预测时间序列\n",
    "code = stock_list[4135]\n",
    "x = get_price(code, end_date = '2021-11-10', frequency = 'daily',  count = 30)\n",
    "x_test = np.array(x['open']).reshape((1, 30, 1))\n",
    "# print(x_test)\n",
    "y = get_price(code, end_date = '2021-11-20', frequency = 'daily',  count = 10)\n",
    "y_predict = model.predict(x_test)\n",
    "y = np.array(y['open'])\n",
    "print(y_predict[0])\n",
    "print(y)"
   ]
  },
  {
   "cell_type": "code",
   "execution_count": null,
   "id": "dc0d8ee7-37df-412f-a5b8-da80a8bbee66",
   "metadata": {},
   "outputs": [],
   "source": [
    "import matplotlib.pyplot as plt\n",
    "from pylab import *                                 #支持中文\n",
    "mpl.rcParams['font.sans-serif'] = ['SimHei']\n",
    "x = [i for i in range(10)]\n",
    "plt.figure(figsize = (16, 9))\n",
    "plt.ylim(0, 50)\n",
    "plt.plot(x, y)\n",
    "plt.plot(x, y_predict[0])\n",
    "# plt.legend()\n",
    "plt.show()"
   ]
  },
  {
   "cell_type": "code",
   "execution_count": null,
   "id": "b4e5bea8-c8ef-4fd5-a465-d2c663b6d8a1",
   "metadata": {},
   "outputs": [],
   "source": [
    "price_next"
   ]
  },
  {
   "cell_type": "code",
   "execution_count": null,
   "id": "9d3b8308-b6d4-4e9a-b09d-3d09fca5867b",
   "metadata": {},
   "outputs": [],
   "source": []
  }
 ],
 "metadata": {
  "kernelspec": {
   "display_name": "Python 3 (ipykernel)",
   "language": "python",
   "name": "python3"
  },
  "language_info": {
   "codemirror_mode": {
    "name": "ipython",
    "version": 3
   },
   "file_extension": ".py",
   "mimetype": "text/x-python",
   "name": "python",
   "nbconvert_exporter": "python",
   "pygments_lexer": "ipython3",
   "version": "3.8.6"
  }
 },
 "nbformat": 4,
 "nbformat_minor": 5
}
